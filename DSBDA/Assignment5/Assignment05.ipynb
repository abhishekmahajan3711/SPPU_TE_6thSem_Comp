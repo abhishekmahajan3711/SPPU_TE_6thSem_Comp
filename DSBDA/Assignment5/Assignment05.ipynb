{
 "cells": [
  {
   "cell_type": "code",
   "execution_count": 18,
   "id": "78e8e48c",
   "metadata": {},
   "outputs": [
    {
     "data": {
      "text/html": [
       "<div>\n",
       "<style scoped>\n",
       "    .dataframe tbody tr th:only-of-type {\n",
       "        vertical-align: middle;\n",
       "    }\n",
       "\n",
       "    .dataframe tbody tr th {\n",
       "        vertical-align: top;\n",
       "    }\n",
       "\n",
       "    .dataframe thead th {\n",
       "        text-align: right;\n",
       "    }\n",
       "</style>\n",
       "<table border=\"1\" class=\"dataframe\">\n",
       "  <thead>\n",
       "    <tr style=\"text-align: right;\">\n",
       "      <th></th>\n",
       "      <th>Age</th>\n",
       "      <th>EstimatedSalary</th>\n",
       "      <th>Purchased</th>\n",
       "    </tr>\n",
       "  </thead>\n",
       "  <tbody>\n",
       "    <tr>\n",
       "      <th>0</th>\n",
       "      <td>19</td>\n",
       "      <td>19000</td>\n",
       "      <td>0</td>\n",
       "    </tr>\n",
       "    <tr>\n",
       "      <th>1</th>\n",
       "      <td>35</td>\n",
       "      <td>20000</td>\n",
       "      <td>0</td>\n",
       "    </tr>\n",
       "    <tr>\n",
       "      <th>2</th>\n",
       "      <td>26</td>\n",
       "      <td>43000</td>\n",
       "      <td>0</td>\n",
       "    </tr>\n",
       "    <tr>\n",
       "      <th>3</th>\n",
       "      <td>27</td>\n",
       "      <td>57000</td>\n",
       "      <td>0</td>\n",
       "    </tr>\n",
       "    <tr>\n",
       "      <th>4</th>\n",
       "      <td>19</td>\n",
       "      <td>76000</td>\n",
       "      <td>0</td>\n",
       "    </tr>\n",
       "  </tbody>\n",
       "</table>\n",
       "</div>"
      ],
      "text/plain": [
       "   Age  EstimatedSalary  Purchased\n",
       "0   19            19000          0\n",
       "1   35            20000          0\n",
       "2   26            43000          0\n",
       "3   27            57000          0\n",
       "4   19            76000          0"
      ]
     },
     "execution_count": 18,
     "metadata": {},
     "output_type": "execute_result"
    }
   ],
   "source": [
    "import pandas as pd\n",
    "df=pd.read_csv('Social_Network_Ads.csv')\n",
    "df.head()"
   ]
  },
  {
   "cell_type": "code",
   "execution_count": 19,
   "id": "848e9b97",
   "metadata": {},
   "outputs": [
    {
     "data": {
      "text/html": [
       "<div>\n",
       "<style scoped>\n",
       "    .dataframe tbody tr th:only-of-type {\n",
       "        vertical-align: middle;\n",
       "    }\n",
       "\n",
       "    .dataframe tbody tr th {\n",
       "        vertical-align: top;\n",
       "    }\n",
       "\n",
       "    .dataframe thead th {\n",
       "        text-align: right;\n",
       "    }\n",
       "</style>\n",
       "<table border=\"1\" class=\"dataframe\">\n",
       "  <thead>\n",
       "    <tr style=\"text-align: right;\">\n",
       "      <th></th>\n",
       "      <th>Age</th>\n",
       "      <th>EstimatedSalary</th>\n",
       "      <th>Purchased</th>\n",
       "    </tr>\n",
       "  </thead>\n",
       "  <tbody>\n",
       "    <tr>\n",
       "      <th>count</th>\n",
       "      <td>400.000000</td>\n",
       "      <td>400.000000</td>\n",
       "      <td>400.000000</td>\n",
       "    </tr>\n",
       "    <tr>\n",
       "      <th>mean</th>\n",
       "      <td>37.655000</td>\n",
       "      <td>69742.500000</td>\n",
       "      <td>0.357500</td>\n",
       "    </tr>\n",
       "    <tr>\n",
       "      <th>std</th>\n",
       "      <td>10.482877</td>\n",
       "      <td>34096.960282</td>\n",
       "      <td>0.479864</td>\n",
       "    </tr>\n",
       "    <tr>\n",
       "      <th>min</th>\n",
       "      <td>18.000000</td>\n",
       "      <td>15000.000000</td>\n",
       "      <td>0.000000</td>\n",
       "    </tr>\n",
       "    <tr>\n",
       "      <th>25%</th>\n",
       "      <td>29.750000</td>\n",
       "      <td>43000.000000</td>\n",
       "      <td>0.000000</td>\n",
       "    </tr>\n",
       "    <tr>\n",
       "      <th>50%</th>\n",
       "      <td>37.000000</td>\n",
       "      <td>70000.000000</td>\n",
       "      <td>0.000000</td>\n",
       "    </tr>\n",
       "    <tr>\n",
       "      <th>75%</th>\n",
       "      <td>46.000000</td>\n",
       "      <td>88000.000000</td>\n",
       "      <td>1.000000</td>\n",
       "    </tr>\n",
       "    <tr>\n",
       "      <th>max</th>\n",
       "      <td>60.000000</td>\n",
       "      <td>150000.000000</td>\n",
       "      <td>1.000000</td>\n",
       "    </tr>\n",
       "  </tbody>\n",
       "</table>\n",
       "</div>"
      ],
      "text/plain": [
       "              Age  EstimatedSalary   Purchased\n",
       "count  400.000000       400.000000  400.000000\n",
       "mean    37.655000     69742.500000    0.357500\n",
       "std     10.482877     34096.960282    0.479864\n",
       "min     18.000000     15000.000000    0.000000\n",
       "25%     29.750000     43000.000000    0.000000\n",
       "50%     37.000000     70000.000000    0.000000\n",
       "75%     46.000000     88000.000000    1.000000\n",
       "max     60.000000    150000.000000    1.000000"
      ]
     },
     "execution_count": 19,
     "metadata": {},
     "output_type": "execute_result"
    }
   ],
   "source": [
    "df.describe()"
   ]
  },
  {
   "cell_type": "code",
   "execution_count": 20,
   "id": "da6f74a7",
   "metadata": {},
   "outputs": [
    {
     "name": "stdout",
     "output_type": "stream",
     "text": [
      "<class 'pandas.core.frame.DataFrame'>\n",
      "RangeIndex: 400 entries, 0 to 399\n",
      "Data columns (total 3 columns):\n",
      " #   Column           Non-Null Count  Dtype\n",
      "---  ------           --------------  -----\n",
      " 0   Age              400 non-null    int64\n",
      " 1   EstimatedSalary  400 non-null    int64\n",
      " 2   Purchased        400 non-null    int64\n",
      "dtypes: int64(3)\n",
      "memory usage: 9.5 KB\n"
     ]
    }
   ],
   "source": [
    "df.info()"
   ]
  },
  {
   "cell_type": "code",
   "execution_count": 21,
   "id": "c235ce65",
   "metadata": {},
   "outputs": [
    {
     "data": {
      "text/plain": [
       "Age                0\n",
       "EstimatedSalary    0\n",
       "Purchased          0\n",
       "dtype: int64"
      ]
     },
     "execution_count": 21,
     "metadata": {},
     "output_type": "execute_result"
    }
   ],
   "source": [
    "df.isnull().sum()"
   ]
  },
  {
   "cell_type": "code",
   "execution_count": 59,
   "id": "48b3388a",
   "metadata": {},
   "outputs": [
    {
     "data": {
      "text/plain": [
       "<Axes: >"
      ]
     },
     "execution_count": 59,
     "metadata": {},
     "output_type": "execute_result"
    },
    {
     "data": {
      "image/png": "[encoded data removed]",
      "text/plain": [
       "<Figure size 640x480 with 2 Axes>"
      ]
     },
     "metadata": {},
     "output_type": "display_data"
    }
   ],
   "source": [
    "import seaborn as sns\n",
    "correaltion_matrix=df.corr()\n",
    "sns.heatmap(data=correaltion_matrix,cmap=\"crest\")"
   ]
  },
  {
   "cell_type": "code",
   "execution_count": 23,
   "id": "0bebaff3",
   "metadata": {},
   "outputs": [
    {
     "data": {
      "text/plain": [
       "<Axes: >"
      ]
     },
     "execution_count": 23,
     "metadata": {},
     "output_type": "execute_result"
    },
    {
     "data": {
      "image/png": "[encoded data removed]",
      "text/plain": [
       "<Figure size 640x480 with 1 Axes>"
      ]
     },
     "metadata": {},
     "output_type": "display_data"
    }
   ],
   "source": [
    "df['Age'].plot.box()"
   ]
  },
  {
   "cell_type": "code",
   "execution_count": 24,
   "id": "c312837f",
   "metadata": {},
   "outputs": [
    {
     "data": {
      "text/plain": [
       "<Axes: >"
      ]
     },
     "execution_count": 24,
     "metadata": {},
     "output_type": "execute_result"
    },
    {
     "data": {
      "image/png": "[encoded data removed]",
      "text/plain": [
       "<Figure size 640x480 with 1 Axes>"
      ]
     },
     "metadata": {},
     "output_type": "display_data"
    }
   ],
   "source": [
    "df['EstimatedSalary'].plot.box()"
   ]
  },
  {
   "cell_type": "code",
   "execution_count": 25,
   "id": "9c75fcfd",
   "metadata": {},
   "outputs": [],
   "source": [
    "from sklearn.linear_model import LogisticRegression\n",
    "from sklearn.model_selection import train_test_split\n",
    "from sklearn.metrics import mean_squared_error"
   ]
  },
  {
   "cell_type": "code",
   "execution_count": 26,
   "id": "9a79bcf4",
   "metadata": {},
   "outputs": [],
   "source": [
    "x=df.loc[:,['Age','EstimatedSalary']].values\n",
    "y=df['Purchased'].values"
   ]
  },
  {
   "cell_type": "markdown",
   "id": "feea2712",
   "metadata": {},
   "source": [
    "Splitting the data"
   ]
  },
  {
   "cell_type": "code",
   "execution_count": 32,
   "id": "7460ea43",
   "metadata": {},
   "outputs": [],
   "source": [
    "x_train,x_test,y_train,y_test=train_test_split(x,y,test_size=0.2)"
   ]
  },
  {
   "cell_type": "code",
   "execution_count": 33,
   "id": "50ed969f",
   "metadata": {},
   "outputs": [],
   "source": [
    "#Normalization using scalar transform\n",
    "from sklearn.preprocessing import StandardScaler\n",
    "sc = StandardScaler()\n",
    "x_train = sc.fit_transform(x_train)\n",
    "x_test = sc.transform(x_test)\n"
   ]
  },
  {
   "cell_type": "code",
   "execution_count": 34,
   "id": "fbf770c6",
   "metadata": {},
   "outputs": [
    {
     "data": {
      "text/plain": [
       "array([[ 0.40019617, -0.12806124],\n",
       "       [ 1.55218513,  1.11813582],\n",
       "       [-0.94379096, -0.41787451],\n",
       "       [ 2.12817961,  0.39360265],\n",
       "       [-0.46379556, -1.20037033],\n",
       "       [ 0.11219893,  0.27767734],\n",
       "       [-1.32778728, -1.08444502],\n",
       "       [-0.2717974 , -0.64972512],\n",
       "       [ 0.88019157, -1.34527697],\n",
       "       [-0.7517928 ,  0.27767734],\n",
       "       [ 0.20819801, -0.27296787],\n",
       "       [-0.46379556, -0.76565043],\n",
       "       [ 1.45618605,  2.13248226],\n",
       "       [ 0.11219893,  0.16175203],\n",
       "       [-1.03979004,  0.53850928],\n",
       "       [ 0.20819801, -0.64972512],\n",
       "       [-0.55979464,  1.90063164],\n",
       "       [ 1.07218973,  0.53850928],\n",
       "       [-0.17579832,  0.16175203],\n",
       "       [-0.2717974 , -0.91055706],\n",
       "       [-0.2717974 , -1.37425829],\n",
       "       [ 0.88019157, -0.53379981],\n",
       "       [-0.07979924, -0.41787451],\n",
       "       [ 0.97619065, -1.0554637 ],\n",
       "       [ 0.20819801,  0.04582672],\n",
       "       [-0.55979464,  1.37896776],\n",
       "       [ 2.03218053,  0.39360265],\n",
       "       [-0.55979464, -1.4901836 ],\n",
       "       [-0.65579372,  0.04582672],\n",
       "       [-0.2717974 , -1.28731431],\n",
       "       [ 0.97619065, -1.0554637 ],\n",
       "       [-0.2717974 , -0.24398655],\n",
       "       [-0.65579372, -1.02648237],\n",
       "       [-0.65579372,  0.1327707 ],\n",
       "       [ 1.16818881,  0.53850928],\n",
       "       [ 0.20819801,  0.24869601],\n",
       "       [-0.65579372,  0.19073336],\n",
       "       [ 0.97619065, -1.171389  ],\n",
       "       [-0.07979924,  0.27767734],\n",
       "       [ 0.97619065,  1.43693041],\n",
       "       [ 0.11219893,  0.77035989],\n",
       "       [-0.55979464,  1.46591174],\n",
       "       [ 0.30419709,  0.27767734],\n",
       "       [ 0.20819801, -0.3019492 ],\n",
       "       [ 0.40019617,  0.59647193],\n",
       "       [-0.2717974 ,  0.21971468],\n",
       "       [ 1.93618145, -0.91055706],\n",
       "       [ 0.88019157,  1.08915449],\n",
       "       [ 1.16818881, -0.7366691 ],\n",
       "       [ 1.07218973, -1.20037033],\n",
       "       [-0.2717974 , -0.56278114],\n",
       "       [ 0.78419249,  0.27767734],\n",
       "       [-0.84779188,  0.39360265],\n",
       "       [ 0.68819341, -1.37425829],\n",
       "       [-1.13578912,  1.40794909],\n",
       "       [ 0.78419249, -0.82361308],\n",
       "       [ 0.40019617,  2.30637022],\n",
       "       [ 0.01619984,  1.26304245],\n",
       "       [-0.94379096, -0.3019492 ],\n",
       "       [ 0.78419249, -1.34527697],\n",
       "       [ 0.30419709,  0.04582672],\n",
       "       [ 0.01619984, -0.12806124],\n",
       "       [ 1.45618605, -1.02648237],\n",
       "       [-1.32778728,  0.42258397],\n",
       "       [-1.32778728, -1.22935166],\n",
       "       [-0.84779188, -0.64972512],\n",
       "       [-0.65579372,  1.40794909],\n",
       "       [-0.07979924, -1.0554637 ],\n",
       "       [-0.55979464,  0.48054663],\n",
       "       [ 0.20819801,  0.16175203],\n",
       "       [ 0.01619984, -0.3019492 ],\n",
       "       [ 0.40019617,  1.00221051],\n",
       "       [-0.94379096, -0.93953839],\n",
       "       [-1.80778268, -1.28731431],\n",
       "       [ 0.20819801,  1.08915449],\n",
       "       [ 0.40019617, -0.44685583],\n",
       "       [-0.55979464,  2.33535154],\n",
       "       [ 1.36018697, -1.40323962],\n",
       "       [-0.7517928 , -1.51916493],\n",
       "       [ 1.74418329,  1.84266899],\n",
       "       [ 0.40019617, -0.47583716],\n",
       "       [ 0.68819341,  0.27767734],\n",
       "       [ 0.88019157,  2.16146358],\n",
       "       [ 2.12817961, -0.79463176],\n",
       "       [-1.90378176,  0.48054663],\n",
       "       [-1.13578912, -1.54814625],\n",
       "       [-0.7517928 ,  0.50952795],\n",
       "       [-1.42378636, -0.18602389],\n",
       "       [ 0.59219433, -0.88157574],\n",
       "       [ 0.97619065,  0.1327707 ],\n",
       "       [ 0.20819801, -0.24398655],\n",
       "       [-1.61578452, -0.04111726],\n",
       "       [ 1.93618145, -1.34527697],\n",
       "       [ 0.68819341, -1.25833299],\n",
       "       [ 2.03218053, -1.171389  ],\n",
       "       [-1.42378636, -1.43222095],\n",
       "       [ 0.78419249, -0.3019492 ],\n",
       "       [-1.13578912,  0.07480805],\n",
       "       [ 0.97619065, -0.82361308],\n",
       "       [ 1.74418329,  1.00221051],\n",
       "       [ 0.88019157, -1.02648237],\n",
       "       [ 2.03218053,  1.75572501],\n",
       "       [ 1.64818421,  1.61081837],\n",
       "       [-1.80778268, -1.40323962],\n",
       "       [ 0.01619984,  1.23406112],\n",
       "       [-1.03979004,  0.42258397],\n",
       "       [ 0.01619984, -0.41787451],\n",
       "       [-1.7117836 , -0.59176247],\n",
       "       [-0.94379096, -1.08444502],\n",
       "       [-0.17579832,  0.85730387],\n",
       "       [ 0.88019157, -0.59176247],\n",
       "       [ 0.20819801, -0.12806124],\n",
       "       [-0.84779188, -1.20037033],\n",
       "       [-0.2717974 , -0.35991185],\n",
       "       [-0.2717974 , -0.3019492 ],\n",
       "       [ 1.55218513,  1.00221051],\n",
       "       [ 0.30419709,  0.07480805],\n",
       "       [ 2.03218053, -0.79463176],\n",
       "       [ 1.55218513, -1.25833299],\n",
       "       [-1.32778728, -0.33093053],\n",
       "       [-0.2717974 ,  0.27767734],\n",
       "       [-1.03979004, -0.33093053],\n",
       "       [-0.07979924,  0.04582672],\n",
       "       [ 0.97619065,  1.87165031],\n",
       "       [-1.32778728, -1.34527697],\n",
       "       [ 0.20819801,  0.07480805],\n",
       "       [-1.13578912, -1.08444502],\n",
       "       [-0.84779188, -0.24398655],\n",
       "       [-0.2717974 ,  0.04582672],\n",
       "       [ 0.20819801, -0.35991185],\n",
       "       [-1.03979004, -0.44685583],\n",
       "       [-1.32778728, -0.41787451],\n",
       "       [-0.7517928 ,  0.30665866],\n",
       "       [ 1.84018237,  0.1327707 ],\n",
       "       [ 0.11219893,  1.87165031],\n",
       "       [-0.2717974 , -1.22935166],\n",
       "       [ 0.01619984, -0.24398655],\n",
       "       [-1.2317882 ,  0.50952795],\n",
       "       [-1.13578912, -1.51916493],\n",
       "       [ 1.07218973,  0.56749061],\n",
       "       [ 0.78419249, -1.37425829],\n",
       "       [-1.03979004,  0.77035989],\n",
       "       [ 0.40019617,  0.30665866],\n",
       "       [ 0.88019157, -1.14240768],\n",
       "       [ 0.01619984, -0.56278114],\n",
       "       [ 1.84018237, -1.25833299],\n",
       "       [-1.13578912, -0.50481849],\n",
       "       [-1.80778268, -1.25833299],\n",
       "       [ 0.40019617,  0.30665866],\n",
       "       [-0.94379096, -0.3019492 ],\n",
       "       [-1.2317882 ,  0.59647193],\n",
       "       [-0.07979924,  0.30665866],\n",
       "       [-1.13578912, -0.99750104],\n",
       "       [ 0.11219893, -0.3019492 ],\n",
       "       [-0.65579372, -1.4901836 ],\n",
       "       [ 1.36018697, -0.91055706],\n",
       "       [ 1.16818881, -0.96851972],\n",
       "       [-0.2717974 , -0.7366691 ],\n",
       "       [-0.17579832,  1.6397997 ],\n",
       "       [-1.13578912, -1.57712758],\n",
       "       [-0.07979924,  2.16146358],\n",
       "       [ 1.93618145, -0.64972512],\n",
       "       [ 0.68819341, -1.08444502],\n",
       "       [-1.61578452,  0.07480805],\n",
       "       [-0.46379556, -0.27296787],\n",
       "       [-0.65579372, -0.04111726],\n",
       "       [-0.46379556, -1.11342635],\n",
       "       [ 1.84018237, -1.0554637 ],\n",
       "       [-0.2717974 , -0.33093053],\n",
       "       [-0.94379096,  0.50952795],\n",
       "       [ 2.12817961, -0.79463176],\n",
       "       [-1.80778268,  0.4515653 ],\n",
       "       [-0.65579372,  0.56749061],\n",
       "       [-0.36779648,  1.23406112],\n",
       "       [-1.32778728, -0.41787451],\n",
       "       [-1.80778268,  0.19073336],\n",
       "       [-1.7117836 ,  0.48054663],\n",
       "       [-0.36779648,  0.07480805],\n",
       "       [-0.46379556,  2.30637022],\n",
       "       [-0.07979924,  0.16175203],\n",
       "       [ 0.97619065,  0.59647193],\n",
       "       [-0.7517928 , -0.59176247],\n",
       "       [-0.46379556, -0.01213593],\n",
       "       [ 1.36018697,  1.29202378],\n",
       "       [-0.2717974 , -0.88157574],\n",
       "       [-0.17579832, -0.44685583],\n",
       "       [-1.42378636, -0.62074379],\n",
       "       [ 0.20819801,  2.10350093],\n",
       "       [ 0.40019617,  0.10378938],\n",
       "       [-0.46379556, -0.53379981],\n",
       "       [-1.32778728, -1.46120227],\n",
       "       [-1.80778268, -1.46120227],\n",
       "       [-1.03979004,  1.9585943 ],\n",
       "       [ 0.78419249, -1.08444502],\n",
       "       [-0.65579372, -1.57712758],\n",
       "       [-1.90378176, -0.04111726],\n",
       "       [ 0.88019157, -0.64972512],\n",
       "       [ 0.40019617,  1.11813582],\n",
       "       [ 0.30419709, -0.50481849],\n",
       "       [-1.03979004, -1.43222095],\n",
       "       [ 0.97619065,  2.0745196 ],\n",
       "       [ 0.30419709,  0.30665866],\n",
       "       [ 0.01619984, -0.56278114],\n",
       "       [ 0.20819801,  0.16175203],\n",
       "       [ 0.49619525,  1.23406112],\n",
       "       [ 0.11219893,  0.21971468],\n",
       "       [-0.2717974 ,  0.53850928],\n",
       "       [ 0.78419249,  0.77035989],\n",
       "       [-0.2717974 , -0.27296787],\n",
       "       [-1.13578912, -1.14240768],\n",
       "       [ 0.49619525,  1.72674368],\n",
       "       [ 0.01619984,  0.30665866],\n",
       "       [-0.07979924,  0.24869601],\n",
       "       [-0.17579832,  1.61081837],\n",
       "       [-1.7117836 ,  0.36462132],\n",
       "       [-0.2717974 , -0.41787451],\n",
       "       [ 0.01619984, -0.24398655],\n",
       "       [ 0.11219893,  0.04582672],\n",
       "       [ 0.97619065, -0.99750104],\n",
       "       [ 0.78419249,  1.37896776],\n",
       "       [-1.90378176, -0.7366691 ],\n",
       "       [ 0.30419709,  0.07480805],\n",
       "       [ 1.07218973,  0.1327707 ],\n",
       "       [ 0.97619065,  1.98757562],\n",
       "       [ 0.30419709, -0.3019492 ],\n",
       "       [-1.13578912,  0.30665866],\n",
       "       [-0.17579832, -0.50481849],\n",
       "       [-0.2717974 , -0.56278114],\n",
       "       [ 1.07218973,  2.0745196 ],\n",
       "       [ 0.11219893,  0.10378938],\n",
       "       [-0.2717974 , -0.12806124],\n",
       "       [ 2.03218053,  0.19073336],\n",
       "       [-0.46379556,  1.26304245],\n",
       "       [-0.2717974 ,  1.11813582],\n",
       "       [ 1.36018697,  1.98757562],\n",
       "       [-0.2717974 ,  0.10378938],\n",
       "       [ 1.64818421,  1.75572501],\n",
       "       [ 0.01619984, -0.53379981],\n",
       "       [-1.90378176,  0.36462132],\n",
       "       [-1.13578912,  0.33563999],\n",
       "       [-0.07979924,  0.30665866],\n",
       "       [ 0.30419709,  0.07480805],\n",
       "       [ 0.88019157, -0.76565043],\n",
       "       [-0.7517928 ,  1.08915449],\n",
       "       [ 1.93618145,  2.16146358],\n",
       "       [ 1.45618605,  0.07480805],\n",
       "       [ 1.93618145,  0.91526653],\n",
       "       [ 0.11219893,  0.04582672],\n",
       "       [-0.36779648, -0.76565043],\n",
       "       [ 2.12817961,  0.94424786],\n",
       "       [ 0.11219893, -0.24398655],\n",
       "       [-0.2717974 ,  0.62545326],\n",
       "       [-0.2717974 ,  0.16175203],\n",
       "       [-0.7517928 ,  1.34998643],\n",
       "       [-0.94379096,  0.27767734],\n",
       "       [ 1.36018697,  2.33535154],\n",
       "       [ 1.07218973, -1.20037033],\n",
       "       [-1.61578452,  0.53850928],\n",
       "       [-1.51978544, -0.41787451],\n",
       "       [ 0.11219893, -0.79463176],\n",
       "       [ 2.12817961, -1.02648237],\n",
       "       [-0.84779188,  2.27738889],\n",
       "       [-0.07979924,  0.21971468],\n",
       "       [-1.03979004, -1.51916493],\n",
       "       [-0.2717974 ,  0.07480805],\n",
       "       [-1.2317882 , -1.0554637 ],\n",
       "       [-1.03979004, -0.35991185],\n",
       "       [ 0.78419249,  0.53850928],\n",
       "       [-1.03979004,  0.56749061],\n",
       "       [-0.17579832, -0.27296787],\n",
       "       [ 0.30419709, -1.14240768],\n",
       "       [ 0.88019157,  1.26304245],\n",
       "       [ 0.40019617,  0.0168454 ],\n",
       "       [-1.2317882 , -1.37425829],\n",
       "       [ 0.88019157, -1.43222095],\n",
       "       [-0.65579372, -0.33093053],\n",
       "       [-0.2717974 , -1.43222095],\n",
       "       [-0.2717974 ,  2.24840756],\n",
       "       [-1.03979004,  0.59647193],\n",
       "       [-0.17579832,  2.16146358],\n",
       "       [-0.2717974 , -1.34527697],\n",
       "       [ 0.11219893,  1.52387439],\n",
       "       [-1.42378636, -0.09907991],\n",
       "       [ 0.78419249,  0.1327707 ],\n",
       "       [ 1.26418789, -1.34527697],\n",
       "       [-1.51978544, -1.22935166],\n",
       "       [ 0.30419709, -0.70768778],\n",
       "       [ 0.49619525,  1.84266899],\n",
       "       [ 1.45618605,  1.00221051],\n",
       "       [ 0.88019157,  1.03119184],\n",
       "       [-0.55979464,  1.37896776],\n",
       "       [-1.80778268,  0.0168454 ],\n",
       "       [-1.32778728,  0.56749061],\n",
       "       [ 2.12817961, -0.67870645],\n",
       "       [-0.84779188, -0.76565043],\n",
       "       [ 0.78419249,  0.36462132],\n",
       "       [ 0.30419709, -0.18602389],\n",
       "       [-0.94379096,  0.4515653 ],\n",
       "       [ 0.30419709,  0.50952795],\n",
       "       [ 1.84018237, -0.27296787],\n",
       "       [ 1.93618145,  0.74137857],\n",
       "       [ 0.30419709, -0.50481849],\n",
       "       [-0.36779648, -1.28731431],\n",
       "       [ 0.11219893,  1.87165031],\n",
       "       [-0.2717974 , -0.47583716],\n",
       "       [ 1.55218513,  0.0168454 ],\n",
       "       [-0.94379096,  0.42258397],\n",
       "       [ 1.16818881, -1.43222095],\n",
       "       [-0.7517928 ,  0.56749061],\n",
       "       [ 1.26418789,  2.21942624],\n",
       "       [-0.94379096,  0.56749061],\n",
       "       [-0.17579832, -0.56278114],\n",
       "       [-1.03979004, -1.11342635],\n",
       "       [ 0.40019617,  0.16175203],\n",
       "       [ 1.07218973, -0.88157574],\n",
       "       [-0.55979464, -1.4901836 ],\n",
       "       [-0.84779188,  0.30665866],\n",
       "       [-0.17579832, -0.18602389],\n",
       "       [-0.07979924,  1.9585943 ],\n",
       "       [-1.13578912, -1.57712758]])"
      ]
     },
     "execution_count": 34,
     "metadata": {},
     "output_type": "execute_result"
    }
   ],
   "source": [
    "x_train"
   ]
  },
  {
   "cell_type": "code",
   "execution_count": 36,
   "id": "e014cb0c",
   "metadata": {},
   "outputs": [
    {
     "data": {
      "text/html": [
       "<style>#sk-container-id-2 {color: black;}#sk-container-id-2 pre{padding: 0;}#sk-container-id-2 div.sk-toggleable {background-color: white;}#sk-container-id-2 label.sk-toggleable__label {cursor: pointer;display: block;width: 100%;margin-bottom: 0;padding: 0.3em;box-sizing: border-box;text-align: center;}#sk-container-id-2 label.sk-toggleable__label-arrow:before {content: \"▸\";float: left;margin-right: 0.25em;color: #696969;}#sk-container-id-2 label.sk-toggleable__label-arrow:hover:before {color: black;}#sk-container-id-2 div.sk-estimator:hover label.sk-toggleable__label-arrow:before {color: black;}#sk-container-id-2 div.sk-toggleable__content {max-height: 0;max-width: 0;overflow: hidden;text-align: left;background-color: #f0f8ff;}#sk-container-id-2 div.sk-toggleable__content pre {margin: 0.2em;color: black;border-radius: 0.25em;background-color: #f0f8ff;}#sk-container-id-2 input.sk-toggleable__control:checked~div.sk-toggleable__content {max-height: 200px;max-width: 100%;overflow: auto;}#sk-container-id-2 input.sk-toggleable__control:checked~label.sk-toggleable__label-arrow:before {content: \"▾\";}#sk-container-id-2 div.sk-estimator input.sk-toggleable__control:checked~label.sk-toggleable__label {background-color: #d4ebff;}#sk-container-id-2 div.sk-label input.sk-toggleable__control:checked~label.sk-toggleable__label {background-color: #d4ebff;}#sk-container-id-2 input.sk-hidden--visually {border: 0;clip: rect(1px 1px 1px 1px);clip: rect(1px, 1px, 1px, 1px);height: 1px;margin: -1px;overflow: hidden;padding: 0;position: absolute;width: 1px;}#sk-container-id-2 div.sk-estimator {font-family: monospace;background-color: #f0f8ff;border: 1px dotted black;border-radius: 0.25em;box-sizing: border-box;margin-bottom: 0.5em;}#sk-container-id-2 div.sk-estimator:hover {background-color: #d4ebff;}#sk-container-id-2 div.sk-parallel-item::after {content: \"\";width: 100%;border-bottom: 1px solid gray;flex-grow: 1;}#sk-container-id-2 div.sk-label:hover label.sk-toggleable__label {background-color: #d4ebff;}#sk-container-id-2 div.sk-serial::before {content: \"\";position: absolute;border-left: 1px solid gray;box-sizing: border-box;top: 0;bottom: 0;left: 50%;z-index: 0;}#sk-container-id-2 div.sk-serial {display: flex;flex-direction: column;align-items: center;background-color: white;padding-right: 0.2em;padding-left: 0.2em;position: relative;}#sk-container-id-2 div.sk-item {position: relative;z-index: 1;}#sk-container-id-2 div.sk-parallel {display: flex;align-items: stretch;justify-content: center;background-color: white;position: relative;}#sk-container-id-2 div.sk-item::before, #sk-container-id-2 div.sk-parallel-item::before {content: \"\";position: absolute;border-left: 1px solid gray;box-sizing: border-box;top: 0;bottom: 0;left: 50%;z-index: -1;}#sk-container-id-2 div.sk-parallel-item {display: flex;flex-direction: column;z-index: 1;position: relative;background-color: white;}#sk-container-id-2 div.sk-parallel-item:first-child::after {align-self: flex-end;width: 50%;}#sk-container-id-2 div.sk-parallel-item:last-child::after {align-self: flex-start;width: 50%;}#sk-container-id-2 div.sk-parallel-item:only-child::after {width: 0;}#sk-container-id-2 div.sk-dashed-wrapped {border: 1px dashed gray;margin: 0 0.4em 0.5em 0.4em;box-sizing: border-box;padding-bottom: 0.4em;background-color: white;}#sk-container-id-2 div.sk-label label {font-family: monospace;font-weight: bold;display: inline-block;line-height: 1.2em;}#sk-container-id-2 div.sk-label-container {text-align: center;}#sk-container-id-2 div.sk-container {/* jupyter's `normalize.less` sets `[hidden] { display: none; }` but bootstrap.min.css set `[hidden] { display: none !important; }` so we also need the `!important` here to be able to override the default hidden behavior on the sphinx rendered scikit-learn.org. See: https://github.com/scikit-learn/scikit-learn/issues/21755 */display: inline-block !important;position: relative;}#sk-container-id-2 div.sk-text-repr-fallback {display: none;}</style><div id=\"sk-container-id-2\" class=\"sk-top-container\"><div class=\"sk-text-repr-fallback\"><pre>LogisticRegression()</pre><b>In a Jupyter environment, please rerun this cell to show the HTML representation or trust the notebook. <br />On GitHub, the HTML representation is unable to render, please try loading this page with nbviewer.org.</b></div><div class=\"sk-container\" hidden><div class=\"sk-item\"><div class=\"sk-estimator sk-toggleable\"><input class=\"sk-toggleable__control sk-hidden--visually\" id=\"sk-estimator-id-2\" type=\"checkbox\" checked><label for=\"sk-estimator-id-2\" class=\"sk-toggleable__label sk-toggleable__label-arrow\">LogisticRegression</label><div class=\"sk-toggleable__content\"><pre>LogisticRegression()</pre></div></div></div></div></div>"
      ],
      "text/plain": [
       "LogisticRegression()"
      ]
     },
     "execution_count": 36,
     "metadata": {},
     "output_type": "execute_result"
    }
   ],
   "source": [
    "model=LogisticRegression()\n",
    "model.fit(x_train,y_train)"
   ]
  },
  {
   "cell_type": "code",
   "execution_count": 37,
   "id": "8f9b5332",
   "metadata": {},
   "outputs": [
    {
     "name": "stdout",
     "output_type": "stream",
     "text": [
      "[0 0 0 1 0 0 1 0 1 0 0 1 0 0 0 1 0 0 0 0 0 0 0 1 0 0 1 0 0 1 1 0 0 1 0 0 0\n",
      " 0 1 0 1 1 0 0 1 0 0 0 1 0 0 0 0 0 0 1 1 0 0 0 0 0 1 0 1 0 1 0 0 0 0 0 0 0\n",
      " 0 0 0 0 0 1]\n"
     ]
    }
   ],
   "source": [
    "y_pred=model.predict(x_test)\n",
    "print(y_pred)"
   ]
  },
  {
   "cell_type": "code",
   "execution_count": 38,
   "id": "cb8aaa3c",
   "metadata": {},
   "outputs": [
    {
     "data": {
      "text/plain": [
       "array([[0, 0, 0, 1, 1, 0, 0, 0, 1, 0, 1, 1, 0, 1, 0, 1, 0, 0, 1, 0, 0, 0,\n",
       "        0, 1, 0, 0, 1, 0, 0, 0, 1, 0, 0, 1, 1, 1, 0, 0, 1, 0, 1, 1, 0, 0,\n",
       "        1, 1, 0, 0, 0, 0, 0, 0, 0, 1, 0, 1, 1, 0, 0, 0, 1, 0, 1, 0, 1, 1,\n",
       "        1, 0, 0, 0, 0, 0, 0, 0, 0, 0, 1, 0, 0, 1],\n",
       "       [0, 0, 0, 1, 0, 0, 1, 0, 1, 0, 0, 1, 0, 0, 0, 1, 0, 0, 0, 0, 0, 0,\n",
       "        0, 1, 0, 0, 1, 0, 0, 1, 1, 0, 0, 1, 0, 0, 0, 0, 1, 0, 1, 1, 0, 0,\n",
       "        1, 0, 0, 0, 1, 0, 0, 0, 0, 0, 0, 1, 1, 0, 0, 0, 0, 0, 1, 0, 1, 0,\n",
       "        1, 0, 0, 0, 0, 0, 0, 0, 0, 0, 0, 0, 0, 1]], dtype=int64)"
      ]
     },
     "execution_count": 38,
     "metadata": {},
     "output_type": "execute_result"
    }
   ],
   "source": [
    "import numpy as np\n",
    "#comparing acutal and predicted value side by side\n",
    "y_comp=np.vstack((y_test,y_pred))\n",
    "y_comp"
   ]
  },
  {
   "cell_type": "code",
   "execution_count": 45,
   "id": "8e089518",
   "metadata": {},
   "outputs": [
    {
     "data": {
      "text/plain": [
       "0.175"
      ]
     },
     "execution_count": 45,
     "metadata": {},
     "output_type": "execute_result"
    }
   ],
   "source": [
    "mse=mean_squared_error(y_test,y_pred)\n",
    "mse"
   ]
  },
  {
   "cell_type": "code",
   "execution_count": 46,
   "id": "0d893d1c",
   "metadata": {},
   "outputs": [
    {
     "data": {
      "text/plain": [
       "0.4183300132670378"
      ]
     },
     "execution_count": 46,
     "metadata": {},
     "output_type": "execute_result"
    }
   ],
   "source": [
    "import numpy as np\n",
    "rmse=np.sqrt(mse)\n",
    "rmse"
   ]
  },
  {
   "cell_type": "code",
   "execution_count": 47,
   "id": "14e09e0f",
   "metadata": {},
   "outputs": [
    {
     "data": {
      "text/plain": [
       "0.825"
      ]
     },
     "execution_count": 47,
     "metadata": {},
     "output_type": "execute_result"
    }
   ],
   "source": [
    "r2_score=model.score(x_test,y_test)\n",
    "r2_score"
   ]
  },
  {
   "cell_type": "markdown",
   "id": "2153dfab",
   "metadata": {},
   "source": [
    "Confusion matrix"
   ]
  },
  {
   "cell_type": "code",
   "execution_count": 39,
   "id": "0f0a236e",
   "metadata": {},
   "outputs": [
    {
     "data": {
      "text/plain": [
       "array([[48,  3],\n",
       "       [11, 18]], dtype=int64)"
      ]
     },
     "execution_count": 39,
     "metadata": {},
     "output_type": "execute_result"
    }
   ],
   "source": [
    "from sklearn.metrics import confusion_matrix\n",
    "cm=confusion_matrix(y_test,y_pred)\n",
    "cm"
   ]
  },
  {
   "cell_type": "code",
   "execution_count": 40,
   "id": "c95b07ab",
   "metadata": {},
   "outputs": [
    {
     "name": "stdout",
     "output_type": "stream",
     "text": [
      "TN 48\n",
      "FP 3\n",
      "FN 11\n",
      "TP 18\n"
     ]
    }
   ],
   "source": [
    "print('TN',cm[0,0])\n",
    "print('FP',cm[0,1])\n",
    "print('FN',cm[1,0])\n",
    "print('TP',cm[1,1])\n",
    "\n"
   ]
  },
  {
   "cell_type": "code",
   "execution_count": 61,
   "id": "6ef397cf",
   "metadata": {},
   "outputs": [
    {
     "name": "stdout",
     "output_type": "stream",
     "text": [
      "The accuracy value :  0.7809330628803245\n"
     ]
    }
   ],
   "source": [
    "from sklearn import metrics\n",
    "fpr, tpr, threshold = metrics.roc_curve(y_test, y_pred)\n",
    "print('The accuracy value : ', metrics.auc(fpr, tpr))"
   ]
  },
  {
   "cell_type": "code",
   "execution_count": 62,
   "id": "0c491034",
   "metadata": {},
   "outputs": [
    {
     "name": "stdout",
     "output_type": "stream",
     "text": [
      "The Average Precision score:  0.6695197044334975\n"
     ]
    }
   ],
   "source": [
    "from sklearn.metrics import average_precision_score\n",
    "print('The Average Precision score: ',average_precision_score(y_test, y_pred) )"
   ]
  },
  {
   "cell_type": "code",
   "execution_count": 63,
   "id": "fa5e19db",
   "metadata": {},
   "outputs": [
    {
     "name": "stdout",
     "output_type": "stream",
     "text": [
      "The mean square error : 0.175\n"
     ]
    }
   ],
   "source": [
    "from sklearn.metrics import mean_squared_error\n",
    "mse = mean_squared_error(y_test, y_pred)\n",
    "print('The mean square error :',mse)"
   ]
  }
 ],
 "metadata": {
  "kernelspec": {
   "display_name": "Python 3 (ipykernel)",
   "language": "python",
   "name": "python3"
  },
  "language_info": {
   "codemirror_mode": {
    "name": "ipython",
    "version": 3
   },
   "file_extension": ".py",
   "mimetype": "text/x-python",
   "name": "python",
   "nbconvert_exporter": "python",
   "pygments_lexer": "ipython3",
   "version": "3.11.5"
  }
 },
 "nbformat": 4,
 "nbformat_minor": 5
}
